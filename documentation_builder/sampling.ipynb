{
 "cells": [
  {
   "cell_type": "markdown",
   "metadata": {},
   "source": [
    "# Flux sampling"
   ]
  },
  {
   "cell_type": "markdown",
   "metadata": {},
   "source": [
    "## Basic usage"
   ]
  },
  {
   "cell_type": "markdown",
   "metadata": {},
   "source": [
    "The easiest way to get started with flux sampling is using the `sample` function in the `flux_analysis` submodule. `sample` takes at least two arguments: a cobra model and the number of samples you want to generate."
   ]
  },
  {
   "cell_type": "code",
   "execution_count": 1,
   "metadata": {},
   "outputs": [
    {
     "data": {
      "text/html": [
       "<div>\n",
       "<style scoped>\n",
       "    .dataframe tbody tr th:only-of-type {\n",
       "        vertical-align: middle;\n",
       "    }\n",
       "\n",
       "    .dataframe tbody tr th {\n",
       "        vertical-align: top;\n",
       "    }\n",
       "\n",
       "    .dataframe thead th {\n",
       "        text-align: right;\n",
       "    }\n",
       "</style>\n",
       "<table border=\"1\" class=\"dataframe\">\n",
       "  <thead>\n",
       "    <tr style=\"text-align: right;\">\n",
       "      <th></th>\n",
       "      <th>ACALD</th>\n",
       "      <th>ACALDt</th>\n",
       "      <th>ACKr</th>\n",
       "      <th>ACONTa</th>\n",
       "      <th>ACONTb</th>\n",
       "      <th>ACt2r</th>\n",
       "      <th>ADK1</th>\n",
       "      <th>AKGDH</th>\n",
       "      <th>AKGt2r</th>\n",
       "      <th>ALCD2x</th>\n",
       "      <th>...</th>\n",
       "      <th>RPI</th>\n",
       "      <th>SUCCt2_2</th>\n",
       "      <th>SUCCt3</th>\n",
       "      <th>SUCDi</th>\n",
       "      <th>SUCOAS</th>\n",
       "      <th>TALA</th>\n",
       "      <th>THD2</th>\n",
       "      <th>TKT1</th>\n",
       "      <th>TKT2</th>\n",
       "      <th>TPI</th>\n",
       "    </tr>\n",
       "  </thead>\n",
       "  <tbody>\n",
       "    <tr>\n",
       "      <td>0</td>\n",
       "      <td>-2.060626</td>\n",
       "      <td>-0.766231</td>\n",
       "      <td>-1.746726</td>\n",
       "      <td>6.136642</td>\n",
       "      <td>6.136642</td>\n",
       "      <td>-1.746726</td>\n",
       "      <td>13.915541</td>\n",
       "      <td>2.174506</td>\n",
       "      <td>-0.242290</td>\n",
       "      <td>-1.294395</td>\n",
       "      <td>...</td>\n",
       "      <td>-6.117270</td>\n",
       "      <td>33.457990</td>\n",
       "      <td>34.319917</td>\n",
       "      <td>704.483302</td>\n",
       "      <td>-2.174506</td>\n",
       "      <td>6.109618</td>\n",
       "      <td>0.230408</td>\n",
       "      <td>6.109618</td>\n",
       "      <td>6.106540</td>\n",
       "      <td>3.122076</td>\n",
       "    </tr>\n",
       "    <tr>\n",
       "      <td>1</td>\n",
       "      <td>-1.518217</td>\n",
       "      <td>-1.265778</td>\n",
       "      <td>-0.253608</td>\n",
       "      <td>9.081331</td>\n",
       "      <td>9.081331</td>\n",
       "      <td>-0.253608</td>\n",
       "      <td>7.194475</td>\n",
       "      <td>5.979050</td>\n",
       "      <td>-0.225992</td>\n",
       "      <td>-0.252439</td>\n",
       "      <td>...</td>\n",
       "      <td>-5.072733</td>\n",
       "      <td>39.902893</td>\n",
       "      <td>40.343192</td>\n",
       "      <td>718.488475</td>\n",
       "      <td>-5.979050</td>\n",
       "      <td>4.991843</td>\n",
       "      <td>0.137019</td>\n",
       "      <td>4.991843</td>\n",
       "      <td>4.959315</td>\n",
       "      <td>4.172389</td>\n",
       "    </tr>\n",
       "    <tr>\n",
       "      <td>2</td>\n",
       "      <td>-3.790368</td>\n",
       "      <td>-1.292543</td>\n",
       "      <td>-0.457502</td>\n",
       "      <td>9.340755</td>\n",
       "      <td>9.340755</td>\n",
       "      <td>-0.457502</td>\n",
       "      <td>23.435794</td>\n",
       "      <td>1.652395</td>\n",
       "      <td>-0.333891</td>\n",
       "      <td>-2.497825</td>\n",
       "      <td>...</td>\n",
       "      <td>-0.674220</td>\n",
       "      <td>0.153276</td>\n",
       "      <td>1.506968</td>\n",
       "      <td>844.889698</td>\n",
       "      <td>-1.652395</td>\n",
       "      <td>0.673601</td>\n",
       "      <td>9.198001</td>\n",
       "      <td>0.673601</td>\n",
       "      <td>0.673352</td>\n",
       "      <td>7.770955</td>\n",
       "    </tr>\n",
       "    <tr>\n",
       "      <td>3</td>\n",
       "      <td>-5.173189</td>\n",
       "      <td>-4.511308</td>\n",
       "      <td>-2.333962</td>\n",
       "      <td>7.364836</td>\n",
       "      <td>7.364836</td>\n",
       "      <td>-2.333962</td>\n",
       "      <td>11.725401</td>\n",
       "      <td>2.504044</td>\n",
       "      <td>-0.051420</td>\n",
       "      <td>-0.661881</td>\n",
       "      <td>...</td>\n",
       "      <td>-0.681200</td>\n",
       "      <td>7.506732</td>\n",
       "      <td>9.110446</td>\n",
       "      <td>885.755585</td>\n",
       "      <td>-2.504044</td>\n",
       "      <td>0.656561</td>\n",
       "      <td>7.514520</td>\n",
       "      <td>0.656561</td>\n",
       "      <td>0.646653</td>\n",
       "      <td>8.450394</td>\n",
       "    </tr>\n",
       "    <tr>\n",
       "      <td>4</td>\n",
       "      <td>-6.787036</td>\n",
       "      <td>-5.645414</td>\n",
       "      <td>-1.521566</td>\n",
       "      <td>6.373250</td>\n",
       "      <td>6.373250</td>\n",
       "      <td>-1.521566</td>\n",
       "      <td>4.823373</td>\n",
       "      <td>3.452123</td>\n",
       "      <td>-0.126943</td>\n",
       "      <td>-1.141621</td>\n",
       "      <td>...</td>\n",
       "      <td>-0.510598</td>\n",
       "      <td>9.307459</td>\n",
       "      <td>10.941500</td>\n",
       "      <td>749.854462</td>\n",
       "      <td>-3.452123</td>\n",
       "      <td>0.474878</td>\n",
       "      <td>6.235982</td>\n",
       "      <td>0.474878</td>\n",
       "      <td>0.460514</td>\n",
       "      <td>8.908012</td>\n",
       "    </tr>\n",
       "  </tbody>\n",
       "</table>\n",
       "<p>5 rows × 95 columns</p>\n",
       "</div>"
      ],
      "text/plain": [
       "      ACALD    ACALDt      ACKr    ACONTa    ACONTb     ACt2r       ADK1  \\\n",
       "0 -2.060626 -0.766231 -1.746726  6.136642  6.136642 -1.746726  13.915541   \n",
       "1 -1.518217 -1.265778 -0.253608  9.081331  9.081331 -0.253608   7.194475   \n",
       "2 -3.790368 -1.292543 -0.457502  9.340755  9.340755 -0.457502  23.435794   \n",
       "3 -5.173189 -4.511308 -2.333962  7.364836  7.364836 -2.333962  11.725401   \n",
       "4 -6.787036 -5.645414 -1.521566  6.373250  6.373250 -1.521566   4.823373   \n",
       "\n",
       "      AKGDH    AKGt2r    ALCD2x  ...       RPI   SUCCt2_2     SUCCt3  \\\n",
       "0  2.174506 -0.242290 -1.294395  ... -6.117270  33.457990  34.319917   \n",
       "1  5.979050 -0.225992 -0.252439  ... -5.072733  39.902893  40.343192   \n",
       "2  1.652395 -0.333891 -2.497825  ... -0.674220   0.153276   1.506968   \n",
       "3  2.504044 -0.051420 -0.661881  ... -0.681200   7.506732   9.110446   \n",
       "4  3.452123 -0.126943 -1.141621  ... -0.510598   9.307459  10.941500   \n",
       "\n",
       "        SUCDi    SUCOAS      TALA      THD2      TKT1      TKT2       TPI  \n",
       "0  704.483302 -2.174506  6.109618  0.230408  6.109618  6.106540  3.122076  \n",
       "1  718.488475 -5.979050  4.991843  0.137019  4.991843  4.959315  4.172389  \n",
       "2  844.889698 -1.652395  0.673601  9.198001  0.673601  0.673352  7.770955  \n",
       "3  885.755585 -2.504044  0.656561  7.514520  0.656561  0.646653  8.450394  \n",
       "4  749.854462 -3.452123  0.474878  6.235982  0.474878  0.460514  8.908012  \n",
       "\n",
       "[5 rows x 95 columns]"
      ]
     },
     "execution_count": 1,
     "metadata": {},
     "output_type": "execute_result"
    }
   ],
   "source": [
    "from cobra.test import create_test_model\n",
    "from cobra.sampling import sample\n",
    "\n",
    "model = create_test_model(\"textbook\")\n",
    "s = sample(model, 100)\n",
    "s.head()"
   ]
  },
  {
   "cell_type": "markdown",
   "metadata": {},
   "source": [
    "By default sample uses the `optgp` method based on the [method presented here](http://dx.doi.org/10.1371/journal.pone.0086587) as it is suited for larger models and can run in parallel. By default the sampler uses a single process. This can be changed by using the `processes` argument."
   ]
  },
  {
   "cell_type": "code",
   "execution_count": 2,
   "metadata": {},
   "outputs": [
    {
     "name": "stdout",
     "output_type": "stream",
     "text": [
      "One process:\n",
      "CPU times: user 19.7 s, sys: 918 ms, total: 20.6 s\n",
      "Wall time: 16.1 s\n",
      "Two processes:\n",
      "CPU times: user 1.31 s, sys: 154 ms, total: 1.46 s\n",
      "Wall time: 8.76 s\n"
     ]
    }
   ],
   "source": [
    "print(\"One process:\")\n",
    "%time s = sample(model, 1000)\n",
    "print(\"Two processes:\")\n",
    "%time s = sample(model, 1000, processes=2)"
   ]
  },
  {
   "cell_type": "markdown",
   "metadata": {},
   "source": [
    "Alternatively you can also user Artificial Centering Hit-and-Run for sampling by setting the method to `achr`.  `achr` does not support parallel execution but has good convergence and is almost Markovian."
   ]
  },
  {
   "cell_type": "code",
   "execution_count": 3,
   "metadata": {},
   "outputs": [],
   "source": [
    "s = sample(model, 100, method=\"achr\")"
   ]
  },
  {
   "cell_type": "markdown",
   "metadata": {},
   "source": [
    "In general setting up the sampler is expensive since initial search directions are generated by solving many linear programming problems. Thus, we recommend to generate as many samples as possible in one go. However, this might require finer control over the sampling procedure as described in the following section."
   ]
  },
  {
   "cell_type": "markdown",
   "metadata": {},
   "source": [
    "## Advanced usage"
   ]
  },
  {
   "cell_type": "markdown",
   "metadata": {},
   "source": [
    "### Sampler objects"
   ]
  },
  {
   "cell_type": "markdown",
   "metadata": {},
   "source": [
    "The sampling process can be controlled on a lower level by using the sampler classes directly."
   ]
  },
  {
   "cell_type": "code",
   "execution_count": 4,
   "metadata": {},
   "outputs": [],
   "source": [
    "from cobra.sampling import OptGPSampler, ACHRSampler"
   ]
  },
  {
   "cell_type": "markdown",
   "metadata": {},
   "source": [
    "Both sampler classes have standardized interfaces and take some additional argument. For instance the `thinning` factor. \"Thinning\" means only recording samples every n iterations. A higher thinning factors mean less correlated samples but also larger computation times. By default the samplers use a thinning factor of 100 which creates roughly uncorrelated samples. If you want less samples but better mixing feel free to increase this parameter. If you want to study convergence for your own model you might want to set it to 1 to obtain all iterates."
   ]
  },
  {
   "cell_type": "code",
   "execution_count": 5,
   "metadata": {},
   "outputs": [],
   "source": [
    "achr = ACHRSampler(model, thinning=10)"
   ]
  },
  {
   "cell_type": "markdown",
   "metadata": {},
   "source": [
    "`OptGPSampler` has an additional `processes` argument specifying how many processes are used to create parallel sampling chains. This should be in the order of your CPU cores for maximum efficiency. As noted before class initialization can take up to a few minutes due to generation of initial search directions. Sampling on the other hand is quick."
   ]
  },
  {
   "cell_type": "code",
   "execution_count": 6,
   "metadata": {},
   "outputs": [],
   "source": [
    "optgp = OptGPSampler(model, processes=4)"
   ]
  },
  {
   "cell_type": "markdown",
   "metadata": {},
   "source": [
    "### Sampling and validation"
   ]
  },
  {
   "cell_type": "markdown",
   "metadata": {},
   "source": [
    "Both samplers have a sample function that generates samples from the initialized object and act like the `sample` function described above, only that this time it will only accept a single argument, the number of samples. For `OptGPSampler` the number of samples should be a multiple of the number of processes, otherwise it will be increased to the nearest multiple automatically."
   ]
  },
  {
   "cell_type": "code",
   "execution_count": 7,
   "metadata": {},
   "outputs": [],
   "source": [
    "s1 = achr.sample(100)\n",
    "\n",
    "s2 = optgp.sample(100)"
   ]
  },
  {
   "cell_type": "markdown",
   "metadata": {},
   "source": [
    "You can call `sample` repeatedly and both samplers are optimized to generate large amount of samples without falling into \"numerical traps\". All sampler objects have a `validate` function in order to check if a set of points are feasible and give detailed information about feasibility violations in a form of a short code denoting feasibility. Here the short code is a combination of any of the following letters:\n",
    "\n",
    "- \"v\" - valid point\n",
    "- \"l\" - lower bound violation\n",
    "- \"u\" - upper bound violation\n",
    "- \"e\" - equality violation (meaning the point is not a steady state)\n",
    "\n",
    "For instance for a random flux distribution (should not be feasible):"
   ]
  },
  {
   "cell_type": "code",
   "execution_count": 8,
   "metadata": {},
   "outputs": [
    {
     "data": {
      "text/plain": [
       "array(['le'], dtype='<U3')"
      ]
     },
     "execution_count": 8,
     "metadata": {},
     "output_type": "execute_result"
    }
   ],
   "source": [
    "import numpy as np\n",
    "\n",
    "bad = np.random.uniform(-1000, 1000, size=len(model.reactions))\n",
    "achr.validate(np.atleast_2d(bad))"
   ]
  },
  {
   "cell_type": "markdown",
   "metadata": {},
   "source": [
    "And for our generated samples:"
   ]
  },
  {
   "cell_type": "code",
   "execution_count": 9,
   "metadata": {},
   "outputs": [
    {
     "data": {
      "text/plain": [
       "array(['v', 'v', 'v', 'v', 'v', 'v', 'v', 'v', 'v', 'v', 'v', 'v', 'v',\n",
       "       'v', 'v', 'v', 'v', 'v', 'v', 'v', 'v', 'v', 'v', 'v', 'v', 'v',\n",
       "       'v', 'v', 'v', 'v', 'v', 'v', 'v', 'v', 'v', 'v', 'v', 'v', 'v',\n",
       "       'v', 'v', 'v', 'v', 'v', 'v', 'v', 'v', 'v', 'v', 'v', 'v', 'v',\n",
       "       'v', 'v', 'v', 'v', 'v', 'v', 'v', 'v', 'v', 'v', 'v', 'v', 'v',\n",
       "       'v', 'v', 'v', 'v', 'v', 'v', 'v', 'v', 'v', 'v', 'v', 'v', 'v',\n",
       "       'v', 'v', 'v', 'v', 'v', 'v', 'v', 'v', 'v', 'v', 'v', 'v', 'v',\n",
       "       'v', 'v', 'v', 'v', 'v', 'v', 'v', 'v', 'v'], dtype='<U3')"
      ]
     },
     "execution_count": 9,
     "metadata": {},
     "output_type": "execute_result"
    }
   ],
   "source": [
    "achr.validate(s1)"
   ]
  },
  {
   "cell_type": "markdown",
   "metadata": {},
   "source": [
    "Even though most models are numerically stable enought that the sampler should only generate valid samples we still urge to check this. `validate` is pretty fast and works quickly even for large models and many samples. If you find invalid samples you do not necessarily have to rerun the entire sampling but can exclude them from the sample DataFrame."
   ]
  },
  {
   "cell_type": "code",
   "execution_count": 10,
   "metadata": {},
   "outputs": [
    {
     "data": {
      "text/plain": [
       "100"
      ]
     },
     "execution_count": 10,
     "metadata": {},
     "output_type": "execute_result"
    }
   ],
   "source": [
    "s1_valid = s1[achr.validate(s1) == \"v\"]\n",
    "len(s1_valid)"
   ]
  },
  {
   "cell_type": "markdown",
   "metadata": {},
   "source": [
    "### Batch sampling"
   ]
  },
  {
   "cell_type": "markdown",
   "metadata": {},
   "source": [
    "Sampler objects are made for generating billions of samples, however using the `sample` function might quickly fill up your RAM when working with genome-scale models. Here, the `batch` method of the sampler objects might come in handy. `batch` takes two arguments, the number of samples in each batch and the number of batches. This will make sense with a small example. \n",
    "\n",
    "Let's assume we want to quantify what proportion of our samples will grow. For that we might want to generate 10 batches of 50 samples each and measure what percentage of the individual 100 samples show a growth rate larger than 0.1. Finally, we want to calculate the mean and standard deviation of those individual percentages."
   ]
  },
  {
   "cell_type": "code",
   "execution_count": 11,
   "metadata": {},
   "outputs": [
    {
     "name": "stdout",
     "output_type": "stream",
     "text": [
      "Usually 14.50% +- 2.16% grow...\n"
     ]
    }
   ],
   "source": [
    "counts = [np.mean(s.Biomass_Ecoli_core > 0.1) for s in optgp.batch(100, 10)]\n",
    "print(\"Usually {:.2f}% +- {:.2f}% grow...\".format(\n",
    "    np.mean(counts) * 100.0, np.std(counts) * 100.0))"
   ]
  },
  {
   "cell_type": "markdown",
   "metadata": {},
   "source": [
    "## Adding constraints"
   ]
  },
  {
   "cell_type": "markdown",
   "metadata": {},
   "source": [
    "Flux sampling will respect additional contraints defined in the model. For instance we can add a constraint enforcing growth in asimilar manner as the section before."
   ]
  },
  {
   "cell_type": "code",
   "execution_count": 12,
   "metadata": {},
   "outputs": [],
   "source": [
    "co = model.problem.Constraint(model.reactions.Biomass_Ecoli_core.flux_expression, lb=0.1)\n",
    "model.add_cons_vars([co])"
   ]
  },
  {
   "cell_type": "markdown",
   "metadata": {},
   "source": [
    "*Note that this is only for demonstration purposes. usually you could set the lower bound of the reaction directly instead of creating a new constraint.*"
   ]
  },
  {
   "cell_type": "code",
   "execution_count": 13,
   "metadata": {},
   "outputs": [
    {
     "name": "stdout",
     "output_type": "stream",
     "text": [
      "0    0.124471\n",
      "1    0.151331\n",
      "2    0.108145\n",
      "3    0.144076\n",
      "4    0.110480\n",
      "5    0.109024\n",
      "6    0.111399\n",
      "7    0.139682\n",
      "8    0.103511\n",
      "9    0.116880\n",
      "Name: Biomass_Ecoli_core, dtype: float64\n"
     ]
    }
   ],
   "source": [
    "s = sample(model, 10)\n",
    "print(s.Biomass_Ecoli_core)"
   ]
  },
  {
   "cell_type": "markdown",
   "metadata": {},
   "source": [
    "As we can see our new constraint was respected."
   ]
  }
 ],
 "metadata": {
  "anaconda-cloud": {},
  "kernelspec": {
   "display_name": "Python 3",
   "language": "python",
   "name": "python3"
  },
  "language_info": {
   "codemirror_mode": {
    "name": "ipython",
    "version": 3
   },
   "file_extension": ".py",
   "mimetype": "text/x-python",
   "name": "python",
   "nbconvert_exporter": "python",
   "pygments_lexer": "ipython3",
   "version": "3.6.7"
  }
 },
 "nbformat": 4,
 "nbformat_minor": 4
}

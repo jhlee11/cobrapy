{
 "cells": [
  {
   "cell_type": "markdown",
   "metadata": {
    "deletable": true,
    "editable": true
   },
   "source": [
    "# Simulating Deletions"
   ]
  },
  {
   "cell_type": "code",
   "execution_count": 2,
   "metadata": {
    "collapsed": false,
    "deletable": true,
    "editable": true
   },
   "outputs": [],
   "source": [
    "import pandas\n",
    "from time import time\n",
    "\n",
    "import cobra.test\n",
    "from cobra.flux_analysis import (\n",
    "    single_gene_deletion, single_reaction_deletion, double_gene_deletion,\n",
    "    double_reaction_deletion)\n",
    "\n",
    "cobra_model = cobra.test.create_test_model(\"textbook\")\n",
    "ecoli_model = cobra.test.create_test_model(\"ecoli\")"
   ]
  },
  {
   "cell_type": "markdown",
   "metadata": {
    "deletable": true,
    "editable": true
   },
   "source": [
    "## Knocking out single genes and reactions"
   ]
  },
  {
   "cell_type": "markdown",
   "metadata": {
    "deletable": true,
    "editable": true
   },
   "source": [
    "A commonly asked question when analyzing metabolic models is what will happen if a certain reaction was not allowed to have any flux at all. This can tested using cobrapy by"
   ]
  },
  {
   "cell_type": "code",
   "execution_count": 3,
   "metadata": {
    "collapsed": false,
    "deletable": true,
    "editable": true,
    "tags": []
   },
   "outputs": [
    {
     "output_type": "stream",
     "name": "stdout",
     "text": "complete model:  <Solution 0.874 at 0x7f8130c3c760>\npfk knocked out:  <Solution 0.704 at 0x7f8130c3c070>\n"
    }
   ],
   "source": [
    "print('complete model: ', cobra_model.optimize())\n",
    "with cobra_model:\n",
    "    cobra_model.reactions.PFK.knock_out()\n",
    "    print('pfk knocked out: ', cobra_model.optimize())"
   ]
  },
  {
   "cell_type": "markdown",
   "metadata": {},
   "source": [
    "For evaluating genetic manipulation strategies, it is more interesting to examine what happens if given genes are knocked out as doing so can affect no reactions in case of redundancy, or more reactions if gene when is participating in more than one reaction."
   ]
  },
  {
   "cell_type": "code",
   "execution_count": 4,
   "metadata": {
    "collapsed": false,
    "tags": []
   },
   "outputs": [
    {
     "output_type": "stream",
     "name": "stdout",
     "text": "complete model:  <Solution 0.874 at 0x7f8131dbc7c0>\npfkA knocked out:  <Solution 0.874 at 0x7f816ddee820>\npfkB knocked out:  <Solution 0.704 at 0x7f8130c3cf40>\n"
    }
   ],
   "source": [
    "print('complete model: ', cobra_model.optimize())\n",
    "with cobra_model:\n",
    "    cobra_model.genes.b1723.knock_out()\n",
    "    print('pfkA knocked out: ', cobra_model.optimize())\n",
    "    cobra_model.genes.b3916.knock_out()\n",
    "    print('pfkB knocked out: ', cobra_model.optimize())"
   ]
  },
  {
   "cell_type": "markdown",
   "metadata": {
    "deletable": true,
    "editable": true
   },
   "source": [
    "## Single Deletions"
   ]
  },
  {
   "cell_type": "markdown",
   "metadata": {
    "deletable": true,
    "editable": true
   },
   "source": [
    "Perform all single gene deletions on a model"
   ]
  },
  {
   "cell_type": "code",
   "execution_count": 5,
   "metadata": {
    "collapsed": false,
    "deletable": true,
    "editable": true
   },
   "outputs": [],
   "source": [
    "deletion_results = single_gene_deletion(cobra_model)"
   ]
  },
  {
   "cell_type": "markdown",
   "metadata": {
    "deletable": true,
    "editable": true
   },
   "source": [
    "These can also be done for only a subset of genes"
   ]
  },
  {
   "cell_type": "code",
   "execution_count": 6,
   "metadata": {
    "collapsed": false,
    "deletable": true,
    "editable": true
   },
   "outputs": [
    {
     "output_type": "execute_result",
     "data": {
      "text/plain": "        ids    growth   status\n0   {b0351}  0.873922  optimal\n1   {b0727}  0.858307  optimal\n2   {b2587}  0.873922  optimal\n3   {b0474}  0.873922  optimal\n4   {b3734}  0.374230  optimal\n5   {b0726}  0.858307  optimal\n6   {b3735}  0.374230  optimal\n7   {b1241}  0.873922  optimal\n8   {b1276}  0.873922  optimal\n9   {b1849}  0.873922  optimal\n10  {b3732}  0.374230  optimal\n11  {s0001}  0.211141  optimal\n12  {b0118}  0.873922  optimal\n13  {b0356}  0.873922  optimal\n14  {b2296}  0.873922  optimal\n15  {b0116}  0.782351  optimal\n16  {b1478}  0.873922  optimal\n17  {b3115}  0.873922  optimal\n18  {b3736}  0.374230  optimal\n19  {b3733}  0.374230  optimal",
      "text/html": "<div>\n<style scoped>\n    .dataframe tbody tr th:only-of-type {\n        vertical-align: middle;\n    }\n\n    .dataframe tbody tr th {\n        vertical-align: top;\n    }\n\n    .dataframe thead th {\n        text-align: right;\n    }\n</style>\n<table border=\"1\" class=\"dataframe\">\n  <thead>\n    <tr style=\"text-align: right;\">\n      <th></th>\n      <th>ids</th>\n      <th>growth</th>\n      <th>status</th>\n    </tr>\n  </thead>\n  <tbody>\n    <tr>\n      <th>0</th>\n      <td>{b0351}</td>\n      <td>0.873922</td>\n      <td>optimal</td>\n    </tr>\n    <tr>\n      <th>1</th>\n      <td>{b0727}</td>\n      <td>0.858307</td>\n      <td>optimal</td>\n    </tr>\n    <tr>\n      <th>2</th>\n      <td>{b2587}</td>\n      <td>0.873922</td>\n      <td>optimal</td>\n    </tr>\n    <tr>\n      <th>3</th>\n      <td>{b0474}</td>\n      <td>0.873922</td>\n      <td>optimal</td>\n    </tr>\n    <tr>\n      <th>4</th>\n      <td>{b3734}</td>\n      <td>0.374230</td>\n      <td>optimal</td>\n    </tr>\n    <tr>\n      <th>5</th>\n      <td>{b0726}</td>\n      <td>0.858307</td>\n      <td>optimal</td>\n    </tr>\n    <tr>\n      <th>6</th>\n      <td>{b3735}</td>\n      <td>0.374230</td>\n      <td>optimal</td>\n    </tr>\n    <tr>\n      <th>7</th>\n      <td>{b1241}</td>\n      <td>0.873922</td>\n      <td>optimal</td>\n    </tr>\n    <tr>\n      <th>8</th>\n      <td>{b1276}</td>\n      <td>0.873922</td>\n      <td>optimal</td>\n    </tr>\n    <tr>\n      <th>9</th>\n      <td>{b1849}</td>\n      <td>0.873922</td>\n      <td>optimal</td>\n    </tr>\n    <tr>\n      <th>10</th>\n      <td>{b3732}</td>\n      <td>0.374230</td>\n      <td>optimal</td>\n    </tr>\n    <tr>\n      <th>11</th>\n      <td>{s0001}</td>\n      <td>0.211141</td>\n      <td>optimal</td>\n    </tr>\n    <tr>\n      <th>12</th>\n      <td>{b0118}</td>\n      <td>0.873922</td>\n      <td>optimal</td>\n    </tr>\n    <tr>\n      <th>13</th>\n      <td>{b0356}</td>\n      <td>0.873922</td>\n      <td>optimal</td>\n    </tr>\n    <tr>\n      <th>14</th>\n      <td>{b2296}</td>\n      <td>0.873922</td>\n      <td>optimal</td>\n    </tr>\n    <tr>\n      <th>15</th>\n      <td>{b0116}</td>\n      <td>0.782351</td>\n      <td>optimal</td>\n    </tr>\n    <tr>\n      <th>16</th>\n      <td>{b1478}</td>\n      <td>0.873922</td>\n      <td>optimal</td>\n    </tr>\n    <tr>\n      <th>17</th>\n      <td>{b3115}</td>\n      <td>0.873922</td>\n      <td>optimal</td>\n    </tr>\n    <tr>\n      <th>18</th>\n      <td>{b3736}</td>\n      <td>0.374230</td>\n      <td>optimal</td>\n    </tr>\n    <tr>\n      <th>19</th>\n      <td>{b3733}</td>\n      <td>0.374230</td>\n      <td>optimal</td>\n    </tr>\n  </tbody>\n</table>\n</div>"
     },
     "metadata": {},
     "execution_count": 6
    }
   ],
   "source": [
    "single_gene_deletion(cobra_model, cobra_model.genes[:20])"
   ]
  },
  {
   "cell_type": "markdown",
   "metadata": {
    "deletable": true,
    "editable": true
   },
   "source": [
    "This can also be done for reactions"
   ]
  },
  {
   "cell_type": "code",
   "execution_count": 7,
   "metadata": {
    "collapsed": false,
    "deletable": true,
    "editable": true
   },
   "outputs": [
    {
     "output_type": "execute_result",
     "data": {
      "text/plain": "                     ids    growth   status\n0               {ACALDt}  0.873922  optimal\n1               {ATPS4r}  0.374230  optimal\n2              {EX_ac_e}  0.873922  optimal\n3                {AKGDH}  0.858307  optimal\n4                 {ACKr}  0.873922  optimal\n5              {ETOHt2r}  0.873922  optimal\n6                   {CS}  0.000000  optimal\n7               {ALCD2x}  0.873922  optimal\n8               {ACONTa}  0.000000  optimal\n9              {D_LACt2}  0.873922  optimal\n10                {ADK1}  0.873922  optimal\n11  {Biomass_Ecoli_core}  0.000000  optimal\n12                {ATPM}  0.916647  optimal\n13               {CYTBD}  0.211663  optimal\n14               {ACt2r}  0.873922  optimal\n15                {CO2t}  0.461670  optimal\n16               {ACALD}  0.873922  optimal\n17                 {ENO}  0.000000  optimal\n18              {AKGt2r}  0.873922  optimal\n19              {ACONTb}  0.000000  optimal",
      "text/html": "<div>\n<style scoped>\n    .dataframe tbody tr th:only-of-type {\n        vertical-align: middle;\n    }\n\n    .dataframe tbody tr th {\n        vertical-align: top;\n    }\n\n    .dataframe thead th {\n        text-align: right;\n    }\n</style>\n<table border=\"1\" class=\"dataframe\">\n  <thead>\n    <tr style=\"text-align: right;\">\n      <th></th>\n      <th>ids</th>\n      <th>growth</th>\n      <th>status</th>\n    </tr>\n  </thead>\n  <tbody>\n    <tr>\n      <th>0</th>\n      <td>{ACALDt}</td>\n      <td>0.873922</td>\n      <td>optimal</td>\n    </tr>\n    <tr>\n      <th>1</th>\n      <td>{ATPS4r}</td>\n      <td>0.374230</td>\n      <td>optimal</td>\n    </tr>\n    <tr>\n      <th>2</th>\n      <td>{EX_ac_e}</td>\n      <td>0.873922</td>\n      <td>optimal</td>\n    </tr>\n    <tr>\n      <th>3</th>\n      <td>{AKGDH}</td>\n      <td>0.858307</td>\n      <td>optimal</td>\n    </tr>\n    <tr>\n      <th>4</th>\n      <td>{ACKr}</td>\n      <td>0.873922</td>\n      <td>optimal</td>\n    </tr>\n    <tr>\n      <th>5</th>\n      <td>{ETOHt2r}</td>\n      <td>0.873922</td>\n      <td>optimal</td>\n    </tr>\n    <tr>\n      <th>6</th>\n      <td>{CS}</td>\n      <td>0.000000</td>\n      <td>optimal</td>\n    </tr>\n    <tr>\n      <th>7</th>\n      <td>{ALCD2x}</td>\n      <td>0.873922</td>\n      <td>optimal</td>\n    </tr>\n    <tr>\n      <th>8</th>\n      <td>{ACONTa}</td>\n      <td>0.000000</td>\n      <td>optimal</td>\n    </tr>\n    <tr>\n      <th>9</th>\n      <td>{D_LACt2}</td>\n      <td>0.873922</td>\n      <td>optimal</td>\n    </tr>\n    <tr>\n      <th>10</th>\n      <td>{ADK1}</td>\n      <td>0.873922</td>\n      <td>optimal</td>\n    </tr>\n    <tr>\n      <th>11</th>\n      <td>{Biomass_Ecoli_core}</td>\n      <td>0.000000</td>\n      <td>optimal</td>\n    </tr>\n    <tr>\n      <th>12</th>\n      <td>{ATPM}</td>\n      <td>0.916647</td>\n      <td>optimal</td>\n    </tr>\n    <tr>\n      <th>13</th>\n      <td>{CYTBD}</td>\n      <td>0.211663</td>\n      <td>optimal</td>\n    </tr>\n    <tr>\n      <th>14</th>\n      <td>{ACt2r}</td>\n      <td>0.873922</td>\n      <td>optimal</td>\n    </tr>\n    <tr>\n      <th>15</th>\n      <td>{CO2t}</td>\n      <td>0.461670</td>\n      <td>optimal</td>\n    </tr>\n    <tr>\n      <th>16</th>\n      <td>{ACALD}</td>\n      <td>0.873922</td>\n      <td>optimal</td>\n    </tr>\n    <tr>\n      <th>17</th>\n      <td>{ENO}</td>\n      <td>0.000000</td>\n      <td>optimal</td>\n    </tr>\n    <tr>\n      <th>18</th>\n      <td>{AKGt2r}</td>\n      <td>0.873922</td>\n      <td>optimal</td>\n    </tr>\n    <tr>\n      <th>19</th>\n      <td>{ACONTb}</td>\n      <td>0.000000</td>\n      <td>optimal</td>\n    </tr>\n  </tbody>\n</table>\n</div>"
     },
     "metadata": {},
     "execution_count": 7
    }
   ],
   "source": [
    "single_reaction_deletion(cobra_model, cobra_model.reactions[:20])"
   ]
  },
  {
   "cell_type": "markdown",
   "metadata": {
    "deletable": true,
    "editable": true
   },
   "source": [
    "## Double Deletions"
   ]
  },
  {
   "cell_type": "markdown",
   "metadata": {
    "deletable": true,
    "editable": true
   },
   "source": [
    "Double deletions run in a similar way."
   ]
  },
  {
   "cell_type": "code",
   "execution_count": 8,
   "metadata": {
    "collapsed": false,
    "deletable": true,
    "editable": true
   },
   "outputs": [
    {
     "output_type": "execute_result",
     "data": {
      "text/plain": "               ids  growth   status\n0          {b2935}  0.8739  optimal\n1   {b2465, b2464}  0.8739  optimal\n2   {b0008, b2464}  0.8739  optimal\n3   {b0008, b3919}  0.7040  optimal\n4   {b3919, b2465}  0.7040  optimal\n5   {b0008, b2935}  0.8739  optimal\n6          {b3919}  0.7040  optimal\n7   {b2465, b2935}  0.8739  optimal\n8   {b0008, b2465}  0.8739  optimal\n9   {b3919, b2464}  0.7040  optimal\n10         {b2464}  0.8739  optimal\n11         {b0008}  0.8739  optimal\n12  {b3919, b2935}  0.7040  optimal\n13  {b2935, b2464}  0.8739  optimal\n14         {b2465}  0.8739  optimal",
      "text/html": "<div>\n<style scoped>\n    .dataframe tbody tr th:only-of-type {\n        vertical-align: middle;\n    }\n\n    .dataframe tbody tr th {\n        vertical-align: top;\n    }\n\n    .dataframe thead th {\n        text-align: right;\n    }\n</style>\n<table border=\"1\" class=\"dataframe\">\n  <thead>\n    <tr style=\"text-align: right;\">\n      <th></th>\n      <th>ids</th>\n      <th>growth</th>\n      <th>status</th>\n    </tr>\n  </thead>\n  <tbody>\n    <tr>\n      <th>0</th>\n      <td>{b2935}</td>\n      <td>0.8739</td>\n      <td>optimal</td>\n    </tr>\n    <tr>\n      <th>1</th>\n      <td>{b2465, b2464}</td>\n      <td>0.8739</td>\n      <td>optimal</td>\n    </tr>\n    <tr>\n      <th>2</th>\n      <td>{b0008, b2464}</td>\n      <td>0.8739</td>\n      <td>optimal</td>\n    </tr>\n    <tr>\n      <th>3</th>\n      <td>{b0008, b3919}</td>\n      <td>0.7040</td>\n      <td>optimal</td>\n    </tr>\n    <tr>\n      <th>4</th>\n      <td>{b3919, b2465}</td>\n      <td>0.7040</td>\n      <td>optimal</td>\n    </tr>\n    <tr>\n      <th>5</th>\n      <td>{b0008, b2935}</td>\n      <td>0.8739</td>\n      <td>optimal</td>\n    </tr>\n    <tr>\n      <th>6</th>\n      <td>{b3919}</td>\n      <td>0.7040</td>\n      <td>optimal</td>\n    </tr>\n    <tr>\n      <th>7</th>\n      <td>{b2465, b2935}</td>\n      <td>0.8739</td>\n      <td>optimal</td>\n    </tr>\n    <tr>\n      <th>8</th>\n      <td>{b0008, b2465}</td>\n      <td>0.8739</td>\n      <td>optimal</td>\n    </tr>\n    <tr>\n      <th>9</th>\n      <td>{b3919, b2464}</td>\n      <td>0.7040</td>\n      <td>optimal</td>\n    </tr>\n    <tr>\n      <th>10</th>\n      <td>{b2464}</td>\n      <td>0.8739</td>\n      <td>optimal</td>\n    </tr>\n    <tr>\n      <th>11</th>\n      <td>{b0008}</td>\n      <td>0.8739</td>\n      <td>optimal</td>\n    </tr>\n    <tr>\n      <th>12</th>\n      <td>{b3919, b2935}</td>\n      <td>0.7040</td>\n      <td>optimal</td>\n    </tr>\n    <tr>\n      <th>13</th>\n      <td>{b2935, b2464}</td>\n      <td>0.8739</td>\n      <td>optimal</td>\n    </tr>\n    <tr>\n      <th>14</th>\n      <td>{b2465}</td>\n      <td>0.8739</td>\n      <td>optimal</td>\n    </tr>\n  </tbody>\n</table>\n</div>"
     },
     "metadata": {},
     "execution_count": 8
    }
   ],
   "source": [
    "double_gene_deletion(\n",
    "    cobra_model, cobra_model.genes[-5:]).round(4)"
   ]
  },
  {
   "cell_type": "markdown",
   "metadata": {
    "deletable": true,
    "editable": true
   },
   "source": [
    "By default, the double deletion function will automatically use multiprocessing, splitting the task over up to 4 cores if they are available. The number of cores can be manually specified as well. Setting use of a single core will disable use of the multiprocessing library, which often aids debugging."
   ]
  },
  {
   "cell_type": "code",
   "execution_count": 9,
   "metadata": {
    "collapsed": false,
    "deletable": true,
    "editable": true,
    "tags": []
   },
   "outputs": [
    {
     "output_type": "stream",
     "name": "stdout",
     "text": "Double gene deletions for 200 genes completed in 9.02 sec with 2 cores\nDouble gene deletions for 200 genes completed in 15.48 sec with 1 core\nSpeedup of 1.72x\n"
    }
   ],
   "source": [
    "start = time()  # start timer()\n",
    "double_gene_deletion(\n",
    "    ecoli_model, ecoli_model.genes[:25], processes=2)\n",
    "t1 = time() - start\n",
    "print(\"Double gene deletions for 200 genes completed in \"\n",
    "      \"%.2f sec with 2 cores\" % t1)\n",
    "\n",
    "start = time()  # start timer()\n",
    "double_gene_deletion(\n",
    "    ecoli_model, ecoli_model.genes[:25], processes=1)\n",
    "t2 = time() - start\n",
    "print(\"Double gene deletions for 200 genes completed in \"\n",
    "      \"%.2f sec with 1 core\" % t2)\n",
    "\n",
    "print(\"Speedup of %.2fx\" % (t2 / t1))"
   ]
  },
  {
   "cell_type": "markdown",
   "metadata": {
    "deletable": true,
    "editable": true
   },
   "source": [
    "Double deletions can also be run for reactions."
   ]
  },
  {
   "cell_type": "code",
   "execution_count": 10,
   "metadata": {
    "collapsed": false,
    "deletable": true,
    "editable": true
   },
   "outputs": [
    {
     "output_type": "execute_result",
     "data": {
      "text/plain": "                 ids  growth   status\n0      {ACt2r, ACKr}  0.8739  optimal\n1     {ACONTa, ACKr}  0.0000  optimal\n2   {ACONTa, ACONTb}  0.0000  optimal\n3           {ACONTa}  0.0000  optimal\n4    {ACONTb, ACt2r}  0.0000  optimal\n5            {ACt2r}  0.8739  optimal\n6     {ACONTa, ADK1}  0.0000  optimal\n7    {ACONTa, ACt2r}  0.0000  optimal\n8      {ADK1, ACt2r}  0.8739  optimal\n9     {ACONTb, ACKr}  0.0000  optimal\n10            {ADK1}  0.8739  optimal\n11    {ACONTb, ADK1}  0.0000  optimal\n12      {ADK1, ACKr}  0.8739  optimal\n13            {ACKr}  0.8739  optimal\n14          {ACONTb}  0.0000  optimal",
      "text/html": "<div>\n<style scoped>\n    .dataframe tbody tr th:only-of-type {\n        vertical-align: middle;\n    }\n\n    .dataframe tbody tr th {\n        vertical-align: top;\n    }\n\n    .dataframe thead th {\n        text-align: right;\n    }\n</style>\n<table border=\"1\" class=\"dataframe\">\n  <thead>\n    <tr style=\"text-align: right;\">\n      <th></th>\n      <th>ids</th>\n      <th>growth</th>\n      <th>status</th>\n    </tr>\n  </thead>\n  <tbody>\n    <tr>\n      <th>0</th>\n      <td>{ACt2r, ACKr}</td>\n      <td>0.8739</td>\n      <td>optimal</td>\n    </tr>\n    <tr>\n      <th>1</th>\n      <td>{ACONTa, ACKr}</td>\n      <td>0.0000</td>\n      <td>optimal</td>\n    </tr>\n    <tr>\n      <th>2</th>\n      <td>{ACONTa, ACONTb}</td>\n      <td>0.0000</td>\n      <td>optimal</td>\n    </tr>\n    <tr>\n      <th>3</th>\n      <td>{ACONTa}</td>\n      <td>0.0000</td>\n      <td>optimal</td>\n    </tr>\n    <tr>\n      <th>4</th>\n      <td>{ACONTb, ACt2r}</td>\n      <td>0.0000</td>\n      <td>optimal</td>\n    </tr>\n    <tr>\n      <th>5</th>\n      <td>{ACt2r}</td>\n      <td>0.8739</td>\n      <td>optimal</td>\n    </tr>\n    <tr>\n      <th>6</th>\n      <td>{ACONTa, ADK1}</td>\n      <td>0.0000</td>\n      <td>optimal</td>\n    </tr>\n    <tr>\n      <th>7</th>\n      <td>{ACONTa, ACt2r}</td>\n      <td>0.0000</td>\n      <td>optimal</td>\n    </tr>\n    <tr>\n      <th>8</th>\n      <td>{ADK1, ACt2r}</td>\n      <td>0.8739</td>\n      <td>optimal</td>\n    </tr>\n    <tr>\n      <th>9</th>\n      <td>{ACONTb, ACKr}</td>\n      <td>0.0000</td>\n      <td>optimal</td>\n    </tr>\n    <tr>\n      <th>10</th>\n      <td>{ADK1}</td>\n      <td>0.8739</td>\n      <td>optimal</td>\n    </tr>\n    <tr>\n      <th>11</th>\n      <td>{ACONTb, ADK1}</td>\n      <td>0.0000</td>\n      <td>optimal</td>\n    </tr>\n    <tr>\n      <th>12</th>\n      <td>{ADK1, ACKr}</td>\n      <td>0.8739</td>\n      <td>optimal</td>\n    </tr>\n    <tr>\n      <th>13</th>\n      <td>{ACKr}</td>\n      <td>0.8739</td>\n      <td>optimal</td>\n    </tr>\n    <tr>\n      <th>14</th>\n      <td>{ACONTb}</td>\n      <td>0.0000</td>\n      <td>optimal</td>\n    </tr>\n  </tbody>\n</table>\n</div>"
     },
     "metadata": {},
     "execution_count": 10
    }
   ],
   "source": [
    "double_reaction_deletion(\n",
    "    cobra_model, cobra_model.reactions[2:7]).round(4)"
   ]
  },
  {
   "cell_type": "markdown",
   "metadata": {},
   "source": [
    "## Accessing individual deletion results\n",
    "\n",
    "Note that the indices for deletions are python [set](https://docs.python.org/3.8/library/stdtypes.html#set-types-set-frozenset) objects. This is the appropriate type since the order of deletions does not matter. Deleting reaction 1 and reaction 2 will have the same effect as deleting reaction 2 and reaction 1. \n",
    "\n",
    "To make it easier to access results all DataFrames returned by COBRAPpy deletion functions have a `knockout` indexer that makes that a bit simpler. Each entry in the indexer is treated as a single deletion entry. So you need to pass sets for double deletions."
   ]
  },
  {
   "cell_type": "code",
   "execution_count": 11,
   "metadata": {
    "tags": []
   },
   "outputs": [
    {
     "output_type": "stream",
     "name": "stdout",
     "text": "ids    growth   status\n89  {ATPM}  0.916647  optimal\n               ids   growth   status\n2238  {ATPM, TKT1}  0.90584  optimal\n"
    }
   ],
   "source": [
    "single = single_reaction_deletion(cobra_model)\n",
    "double = double_reaction_deletion(cobra_model)\n",
    "\n",
    "print(single.knockout[\"ATPM\"])\n",
    "print(double.knockout[{\"ATPM\", \"TKT1\"}])"
   ]
  },
  {
   "cell_type": "markdown",
   "metadata": {},
   "source": [
    "This can be used to get several deletions at once and will also work for Reaction or Gene objects (depending on what you deleted) directly."
   ]
  },
  {
   "cell_type": "code",
   "execution_count": 12,
   "metadata": {
    "tags": []
   },
   "outputs": [
    {
     "output_type": "stream",
     "name": "stdout",
     "text": "ids    growth   status\n15   {PFK}  0.704037  optimal\n17  {TKT1}  0.864759  optimal\n89  {ATPM}  0.916647  optimal\n               ids    growth   status\n762         {ATPM}  0.916647  optimal\n2238  {ATPM, TKT1}  0.905840  optimal\n2533   {PFK, ATPM}  0.704037  optimal\n"
    }
   ],
   "source": [
    "atpm = cobra_model.reactions.ATPM\n",
    "tkt1 = cobra_model.reactions.TKT1\n",
    "pfk = cobra_model.reactions.PFK\n",
    "\n",
    "print(single.knockout[atpm, tkt1, pfk])\n",
    "print(double.knockout[{atpm, tkt1}, {atpm, pfk}, {atpm}])\n"
   ]
  },
  {
   "cell_type": "code",
   "execution_count": null,
   "metadata": {},
   "outputs": [],
   "source": []
  }
 ],
 "metadata": {
  "kernelspec": {
   "display_name": "Python 3.8.5 64-bit",
   "language": "python",
   "name": "python38564bitf0104f1d307f43fe817f807276206b68"
  },
  "language_info": {
   "codemirror_mode": {
    "name": "ipython",
    "version": 3
   },
   "file_extension": ".py",
   "mimetype": "text/x-python",
   "name": "python",
   "nbconvert_exporter": "python",
   "pygments_lexer": "ipython3",
   "version": "3.8.5-final"
  }
 },
 "nbformat": 4,
 "nbformat_minor": 2
}